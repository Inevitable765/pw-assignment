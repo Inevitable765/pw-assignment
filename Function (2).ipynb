{
  "nbformat": 4,
  "nbformat_minor": 0,
  "metadata": {
    "colab": {
      "provenance": []
    },
    "kernelspec": {
      "name": "python3",
      "display_name": "Python 3"
    },
    "language_info": {
      "name": "python"
    }
  },
  "cells": [
    {
      "cell_type": "code",
      "execution_count": null,
      "metadata": {
        "id": "UvJ-4OKBzanE"
      },
      "outputs": [],
      "source": []
    },
    {
      "cell_type": "markdown",
      "source": [
        "                        **Theory Questions**"
      ],
      "metadata": {
        "id": "c4d4UUQlzxwb"
      }
    },
    {
      "cell_type": "markdown",
      "source": [
        "q1.  What is the difference between a function and a method in Python?\n",
        "\n",
        "ans: In Python, both functions and methods are used to perform specific operations, but they differ in how they are defined and used. A function is a block of reusable code that is defined independently using the def keyword. It is not tied to any object and can be called directly by its name. Functions can accept arguments and return values, and they are used to organize code into manageable pieces. On the other hand, a method is essentially a function that is associated with an object and is defined within a class. When a method is called, it automatically receives the object it is called on as its first argument, typically named self.\n",
        "example:"
      ],
      "metadata": {
        "id": "SnxFA_egz2NM"
      }
    },
    {
      "cell_type": "code",
      "source": [
        "# function\n",
        "def add(a,b):\n",
        "  return a+b\n",
        "print(add(10,20))"
      ],
      "metadata": {
        "colab": {
          "base_uri": "https://localhost:8080/"
        },
        "id": "pGiFDwU50v_w",
        "outputId": "3239e825-f6c2-4b2c-e0a9-61f845656644"
      },
      "execution_count": null,
      "outputs": [
        {
          "output_type": "stream",
          "name": "stdout",
          "text": [
            "30\n"
          ]
        }
      ]
    },
    {
      "cell_type": "code",
      "source": [
        "# method\n",
        "class Calculator:\n",
        "    def add(self, a, b):\n",
        "        return a + b\n",
        "\n",
        "calc = Calculator()\n",
        "result = calc.add(3, 5)\n",
        "print(\"Method result:\", result)\n"
      ],
      "metadata": {
        "colab": {
          "base_uri": "https://localhost:8080/"
        },
        "id": "qd9cDhbk0-Sz",
        "outputId": "7529a3ae-a4db-404f-d94a-21f45fa56c28"
      },
      "execution_count": null,
      "outputs": [
        {
          "output_type": "stream",
          "name": "stdout",
          "text": [
            "Method result: 8\n"
          ]
        }
      ]
    },
    {
      "cell_type": "markdown",
      "source": [
        "q2. Explain the concept of function arguments and parameters in Python.\n",
        "\n",
        "ans: the concepts of function arguments and parameters are fundamental to understanding how functions work. Parameters are the variable names listed in a function’s definition; they act as placeholders for the values that will be provided when the function is called. On the other hand, arguments are the actual values you pass into the function when calling it. For example, in the function definition def greet(name):, name is a parameter. When you call the function using greet(\"Dheeraj\"), the string \"Dheeraj\" is the argument passed to the parameter name.\n",
        "example:"
      ],
      "metadata": {
        "id": "fMUxw14Z1NqY"
      }
    },
    {
      "cell_type": "code",
      "source": [
        "def greet(name): # name is parameter\n",
        "  print(\"welcome\",name)\n",
        "\n",
        "print(greet(\"dheeraj\")) # dheeraj is argument"
      ],
      "metadata": {
        "colab": {
          "base_uri": "https://localhost:8080/"
        },
        "id": "yPlf9GQX1vOh",
        "outputId": "4a2966dd-1a32-409d-aa7b-85ccab21a410"
      },
      "execution_count": null,
      "outputs": [
        {
          "output_type": "stream",
          "name": "stdout",
          "text": [
            "welcome dheeraj\n",
            "None\n"
          ]
        }
      ]
    },
    {
      "cell_type": "markdown",
      "source": [
        "q3.  What are the different ways to define and call a function in Python?\n",
        "\n",
        "ans: a function is typically defined using the def keyword followed by the function name and a set of parentheses, which may include parameters. For example, def greet(name): defines a simple function with one parameter. You can also define anonymous functions using the lambda keyword, which is useful for short, single-expression functions. To call a function, you simply use its name followed by parentheses containing any required arguments, such as greet(\"Dheeraj\"). Functions can also be called using positional arguments, where the order matters, or keyword arguments, where arguments are passed by name like greet(name=\"Dheeraj\"). You can define functions with default arguments so that if no value is passed, a default is used (e.g., def greet(name=\"Guest\"))."
      ],
      "metadata": {
        "id": "EqcdQXf22Lhj"
      }
    },
    {
      "cell_type": "markdown",
      "source": [
        "q4. What is the purpose of the `return` statement in a Python function?\n",
        "\n",
        "ans: The return statement in a Python function is used to send back a value from the function to the place where it was called. When a function reaches a return statement, it ends the function’s execution immediately and passes the specified value back to the caller."
      ],
      "metadata": {
        "id": "3CoTd4C33Fyn"
      }
    },
    {
      "cell_type": "markdown",
      "source": [
        "q5. What are iterators in Python and how do they differ from iterables?\n",
        "\n",
        "ans:  iterables and iterators are closely related but not the same. An iterable is any object that can be looped over (iterated), such as lists, tuples, strings, sets, and dictionaries. These objects implement the __iter__() method, which returns an iterator. An iterator, on the other hand, is an object that represents a stream of data and produces the next item when you call its __next__() method."
      ],
      "metadata": {
        "id": "oeQAHIOB3X6S"
      }
    },
    {
      "cell_type": "markdown",
      "source": [
        "q6.  Explain the concept of generators in Python and how they are defined.\n",
        "\n",
        "ans:  generators are a special type of function used to generate a sequence of values lazily, meaning they produce items one at a time only when needed, rather than storing the entire sequence in memory. This makes them very memory-efficient, especially when dealing with large data or infinite sequences. Generators are defined using the def keyword, just like normal functions, but instead of return, they use the yield keyword to return values."
      ],
      "metadata": {
        "id": "sXsfT-RT4ErL"
      }
    },
    {
      "cell_type": "code",
      "source": [
        "def sqaure(a):\n",
        "  for i in range(a):\n",
        "    yield i**2\n",
        "a=sqaure(5)\n",
        "print(next(a))\n",
        "print(next(a))\n"
      ],
      "metadata": {
        "colab": {
          "base_uri": "https://localhost:8080/"
        },
        "id": "vQWKdFWm4QIL",
        "outputId": "9c937b45-7629-4085-b856-2375722fff9b"
      },
      "execution_count": null,
      "outputs": [
        {
          "output_type": "stream",
          "name": "stdout",
          "text": [
            "0\n",
            "1\n"
          ]
        }
      ]
    },
    {
      "cell_type": "markdown",
      "source": [
        "q7. What are the advantages of using generators over regular functions?\n",
        "\n",
        "ans: Generators offer several advantages over regular functions, especially when working with large datasets or streams of data. The most important benefit is that generators are memory-efficient. Unlike regular functions that return all values at once (e.g., in a list), a generator produces values one at a time using yield, and does not store the entire sequence in memory. This makes them ideal for iterating over large or even infinite sequences without running out of memory."
      ],
      "metadata": {
        "id": "-WPR1Lfz7RcO"
      }
    },
    {
      "cell_type": "markdown",
      "source": [
        "q8.  What is a lambda function in Python and when is it typically used?\n",
        "\n",
        "ans: A lambda function in Python is a small, anonymous function defined using the lambda keyword instead of the standard def keyword. Unlike regular functions, a lambda function can only contain a single expression, which is evaluated and returned. It doesn't have a name unless assigned to a variable, making it useful for short, throwaway functions that are not reused elsewhere. Lambda functions are typically used in situations where a simple function is required temporarily, such as with built-in functions like map(), filter(), and sorted()."
      ],
      "metadata": {
        "id": "SCN5vFxy7gKL"
      }
    },
    {
      "cell_type": "code",
      "source": [
        "sqaure=lambda x: x**2\n",
        "print(sqaure(5))"
      ],
      "metadata": {
        "colab": {
          "base_uri": "https://localhost:8080/"
        },
        "id": "WM21uTff77Ie",
        "outputId": "760f768d-407c-4575-ec09-0edba73656c5"
      },
      "execution_count": null,
      "outputs": [
        {
          "output_type": "stream",
          "name": "stdout",
          "text": [
            "25\n"
          ]
        }
      ]
    },
    {
      "cell_type": "code",
      "source": [],
      "metadata": {
        "id": "q4gO3yZi6kh-"
      },
      "execution_count": null,
      "outputs": []
    },
    {
      "cell_type": "markdown",
      "source": [
        "q9.  Explain the purpose and usage of the `map()` function in Python.\n",
        "\n",
        "ans: The map() function in Python is used to apply a function to every item in an iterable, such as a list, tuple, or set. Its main purpose is to transform each element in a sequence without the need for explicit loops. The map() function takes two arguments: the first is the function to apply, and the second is the iterable whose elements will be passed to the function one by one. The result of map() is a map object, which is an iterator and can be converted to a list or another iterable type if needed."
      ],
      "metadata": {
        "id": "jx6bCOXI8G5j"
      }
    },
    {
      "cell_type": "markdown",
      "source": [],
      "metadata": {
        "id": "cm6V9Z2N8TWZ"
      }
    },
    {
      "cell_type": "code",
      "source": [
        "def sq(x):\n",
        "  return x**2\n",
        "li=[1,2,3,4]\n",
        "a=list(map(sq,li))\n",
        "print(a)"
      ],
      "metadata": {
        "colab": {
          "base_uri": "https://localhost:8080/"
        },
        "id": "v3_AvqJj8gb_",
        "outputId": "17e51dc6-7682-4d78-bfd1-c205908c136e"
      },
      "execution_count": null,
      "outputs": [
        {
          "output_type": "stream",
          "name": "stdout",
          "text": [
            "[1, 4, 9, 16]\n"
          ]
        }
      ]
    },
    {
      "cell_type": "code",
      "source": [],
      "metadata": {
        "id": "o1HmhOCh8xJH"
      },
      "execution_count": null,
      "outputs": []
    },
    {
      "cell_type": "markdown",
      "source": [
        "q10. What is the difference between `map()`, `reduce()`, and `filter()` functions in Python?\n",
        "\n",
        "ans:  map(), filter(), and reduce() are built-in functions used for functional programming that help process collections like lists or tuples efficiently, but they serve different purposes. The map() function is used to transform each element in an iterable by applying a function to every item, returning a new iterable with the results. For example, you might use map() to double every number in a list. On the other hand, filter() is used to select or filter elements from an iterable based on a condition. It applies a function that returns either True or False to each element, keeping only the elements where the function returns True. Lastly, reduce(), which is part of the functools module, is used to combine all items in an iterable into a single result by repeatedly applying a function that takes two arguments."
      ],
      "metadata": {
        "id": "sZeeMfo181Sy"
      }
    },
    {
      "cell_type": "markdown",
      "source": [
        "11. Using pen & Paper write the internal mechanism for sum operation using  reduce function on this given\n",
        "list:[47,11,42,13]\n",
        "\n",
        "ans:"
      ],
      "metadata": {
        "id": "_WF07yyBPqXO"
      }
    },
    {
      "cell_type": "code",
      "source": [
        "from google.colab import files\n",
        "uploaded = files.upload()"
      ],
      "metadata": {
        "colab": {
          "base_uri": "https://localhost:8080/",
          "height": 73
        },
        "id": "FYliU8VpPuqh",
        "outputId": "8389467f-2a6c-4b8b-bd91-276f756f4e52"
      },
      "execution_count": 2,
      "outputs": [
        {
          "output_type": "display_data",
          "data": {
            "text/plain": [
              "<IPython.core.display.HTML object>"
            ],
            "text/html": [
              "\n",
              "     <input type=\"file\" id=\"files-0c759bd5-5480-446c-9cc5-bf1ef4c579d0\" name=\"files[]\" multiple disabled\n",
              "        style=\"border:none\" />\n",
              "     <output id=\"result-0c759bd5-5480-446c-9cc5-bf1ef4c579d0\">\n",
              "      Upload widget is only available when the cell has been executed in the\n",
              "      current browser session. Please rerun this cell to enable.\n",
              "      </output>\n",
              "      <script>// Copyright 2017 Google LLC\n",
              "//\n",
              "// Licensed under the Apache License, Version 2.0 (the \"License\");\n",
              "// you may not use this file except in compliance with the License.\n",
              "// You may obtain a copy of the License at\n",
              "//\n",
              "//      http://www.apache.org/licenses/LICENSE-2.0\n",
              "//\n",
              "// Unless required by applicable law or agreed to in writing, software\n",
              "// distributed under the License is distributed on an \"AS IS\" BASIS,\n",
              "// WITHOUT WARRANTIES OR CONDITIONS OF ANY KIND, either express or implied.\n",
              "// See the License for the specific language governing permissions and\n",
              "// limitations under the License.\n",
              "\n",
              "/**\n",
              " * @fileoverview Helpers for google.colab Python module.\n",
              " */\n",
              "(function(scope) {\n",
              "function span(text, styleAttributes = {}) {\n",
              "  const element = document.createElement('span');\n",
              "  element.textContent = text;\n",
              "  for (const key of Object.keys(styleAttributes)) {\n",
              "    element.style[key] = styleAttributes[key];\n",
              "  }\n",
              "  return element;\n",
              "}\n",
              "\n",
              "// Max number of bytes which will be uploaded at a time.\n",
              "const MAX_PAYLOAD_SIZE = 100 * 1024;\n",
              "\n",
              "function _uploadFiles(inputId, outputId) {\n",
              "  const steps = uploadFilesStep(inputId, outputId);\n",
              "  const outputElement = document.getElementById(outputId);\n",
              "  // Cache steps on the outputElement to make it available for the next call\n",
              "  // to uploadFilesContinue from Python.\n",
              "  outputElement.steps = steps;\n",
              "\n",
              "  return _uploadFilesContinue(outputId);\n",
              "}\n",
              "\n",
              "// This is roughly an async generator (not supported in the browser yet),\n",
              "// where there are multiple asynchronous steps and the Python side is going\n",
              "// to poll for completion of each step.\n",
              "// This uses a Promise to block the python side on completion of each step,\n",
              "// then passes the result of the previous step as the input to the next step.\n",
              "function _uploadFilesContinue(outputId) {\n",
              "  const outputElement = document.getElementById(outputId);\n",
              "  const steps = outputElement.steps;\n",
              "\n",
              "  const next = steps.next(outputElement.lastPromiseValue);\n",
              "  return Promise.resolve(next.value.promise).then((value) => {\n",
              "    // Cache the last promise value to make it available to the next\n",
              "    // step of the generator.\n",
              "    outputElement.lastPromiseValue = value;\n",
              "    return next.value.response;\n",
              "  });\n",
              "}\n",
              "\n",
              "/**\n",
              " * Generator function which is called between each async step of the upload\n",
              " * process.\n",
              " * @param {string} inputId Element ID of the input file picker element.\n",
              " * @param {string} outputId Element ID of the output display.\n",
              " * @return {!Iterable<!Object>} Iterable of next steps.\n",
              " */\n",
              "function* uploadFilesStep(inputId, outputId) {\n",
              "  const inputElement = document.getElementById(inputId);\n",
              "  inputElement.disabled = false;\n",
              "\n",
              "  const outputElement = document.getElementById(outputId);\n",
              "  outputElement.innerHTML = '';\n",
              "\n",
              "  const pickedPromise = new Promise((resolve) => {\n",
              "    inputElement.addEventListener('change', (e) => {\n",
              "      resolve(e.target.files);\n",
              "    });\n",
              "  });\n",
              "\n",
              "  const cancel = document.createElement('button');\n",
              "  inputElement.parentElement.appendChild(cancel);\n",
              "  cancel.textContent = 'Cancel upload';\n",
              "  const cancelPromise = new Promise((resolve) => {\n",
              "    cancel.onclick = () => {\n",
              "      resolve(null);\n",
              "    };\n",
              "  });\n",
              "\n",
              "  // Wait for the user to pick the files.\n",
              "  const files = yield {\n",
              "    promise: Promise.race([pickedPromise, cancelPromise]),\n",
              "    response: {\n",
              "      action: 'starting',\n",
              "    }\n",
              "  };\n",
              "\n",
              "  cancel.remove();\n",
              "\n",
              "  // Disable the input element since further picks are not allowed.\n",
              "  inputElement.disabled = true;\n",
              "\n",
              "  if (!files) {\n",
              "    return {\n",
              "      response: {\n",
              "        action: 'complete',\n",
              "      }\n",
              "    };\n",
              "  }\n",
              "\n",
              "  for (const file of files) {\n",
              "    const li = document.createElement('li');\n",
              "    li.append(span(file.name, {fontWeight: 'bold'}));\n",
              "    li.append(span(\n",
              "        `(${file.type || 'n/a'}) - ${file.size} bytes, ` +\n",
              "        `last modified: ${\n",
              "            file.lastModifiedDate ? file.lastModifiedDate.toLocaleDateString() :\n",
              "                                    'n/a'} - `));\n",
              "    const percent = span('0% done');\n",
              "    li.appendChild(percent);\n",
              "\n",
              "    outputElement.appendChild(li);\n",
              "\n",
              "    const fileDataPromise = new Promise((resolve) => {\n",
              "      const reader = new FileReader();\n",
              "      reader.onload = (e) => {\n",
              "        resolve(e.target.result);\n",
              "      };\n",
              "      reader.readAsArrayBuffer(file);\n",
              "    });\n",
              "    // Wait for the data to be ready.\n",
              "    let fileData = yield {\n",
              "      promise: fileDataPromise,\n",
              "      response: {\n",
              "        action: 'continue',\n",
              "      }\n",
              "    };\n",
              "\n",
              "    // Use a chunked sending to avoid message size limits. See b/62115660.\n",
              "    let position = 0;\n",
              "    do {\n",
              "      const length = Math.min(fileData.byteLength - position, MAX_PAYLOAD_SIZE);\n",
              "      const chunk = new Uint8Array(fileData, position, length);\n",
              "      position += length;\n",
              "\n",
              "      const base64 = btoa(String.fromCharCode.apply(null, chunk));\n",
              "      yield {\n",
              "        response: {\n",
              "          action: 'append',\n",
              "          file: file.name,\n",
              "          data: base64,\n",
              "        },\n",
              "      };\n",
              "\n",
              "      let percentDone = fileData.byteLength === 0 ?\n",
              "          100 :\n",
              "          Math.round((position / fileData.byteLength) * 100);\n",
              "      percent.textContent = `${percentDone}% done`;\n",
              "\n",
              "    } while (position < fileData.byteLength);\n",
              "  }\n",
              "\n",
              "  // All done.\n",
              "  yield {\n",
              "    response: {\n",
              "      action: 'complete',\n",
              "    }\n",
              "  };\n",
              "}\n",
              "\n",
              "scope.google = scope.google || {};\n",
              "scope.google.colab = scope.google.colab || {};\n",
              "scope.google.colab._files = {\n",
              "  _uploadFiles,\n",
              "  _uploadFilesContinue,\n",
              "};\n",
              "})(self);\n",
              "</script> "
            ]
          },
          "metadata": {}
        },
        {
          "output_type": "stream",
          "name": "stdout",
          "text": [
            "Saving q.jpg to q (1).jpg\n"
          ]
        }
      ]
    },
    {
      "cell_type": "markdown",
      "source": [
        "                                          **Practical Questions**"
      ],
      "metadata": {
        "id": "u6cI42pv-4FP"
      }
    },
    {
      "cell_type": "markdown",
      "source": [],
      "metadata": {
        "id": "9SNN6l8n-_ck"
      }
    },
    {
      "cell_type": "markdown",
      "source": [
        "q1.  Write a Python function that takes a list of numbers as input and returns the sum of all even numbers in\n",
        "the list\n",
        "\n",
        "ans:"
      ],
      "metadata": {
        "id": "zTB9zU_W_MYw"
      }
    },
    {
      "cell_type": "code",
      "source": [
        "def sum_even_numbers(numbers):\n",
        "    sum = 0\n",
        "    for num in numbers:\n",
        "        if num % 2 == 0:\n",
        "            sum += num\n",
        "    return sum\n",
        "print(sum_even_numbers([1, 2, 3, 4, 5, 6, 7, 8, 9]))"
      ],
      "metadata": {
        "colab": {
          "base_uri": "https://localhost:8080/"
        },
        "id": "4sTmNuZG_Tck",
        "outputId": "83a2e35f-7862-4e7c-c358-be75a99d2ff9"
      },
      "execution_count": null,
      "outputs": [
        {
          "output_type": "stream",
          "name": "stdout",
          "text": [
            "20\n"
          ]
        }
      ]
    },
    {
      "cell_type": "code",
      "source": [],
      "metadata": {
        "id": "qPNOtQ4x__c5"
      },
      "execution_count": null,
      "outputs": []
    },
    {
      "cell_type": "code",
      "source": [],
      "metadata": {
        "id": "0Yv5WLtDBPER"
      },
      "execution_count": null,
      "outputs": []
    },
    {
      "cell_type": "markdown",
      "source": [
        "q2.  Create a Python function that accepts a string and returns the reverse of that string.\n",
        "\n",
        "ans:"
      ],
      "metadata": {
        "id": "zuZB9SzBBJxQ"
      }
    },
    {
      "cell_type": "code",
      "source": [
        "def reverse_string(n):\n",
        "  return n[::-1]\n",
        "print(reverse_string(\"pwskill\"))"
      ],
      "metadata": {
        "colab": {
          "base_uri": "https://localhost:8080/"
        },
        "id": "HSNDvpKoBQay",
        "outputId": "5cf72386-040d-485e-9877-c7ca911d16d2"
      },
      "execution_count": 1,
      "outputs": [
        {
          "output_type": "stream",
          "name": "stdout",
          "text": [
            "llikswp\n"
          ]
        }
      ]
    },
    {
      "cell_type": "code",
      "source": [],
      "metadata": {
        "id": "emoTQTOUBtZe"
      },
      "execution_count": null,
      "outputs": []
    },
    {
      "cell_type": "markdown",
      "source": [
        "q3. . Implement a Python function that takes a list of integers and returns a new list containing the squares of\n",
        "each number.\n",
        "ans:"
      ],
      "metadata": {
        "id": "4pUVYG5PCB-t"
      }
    },
    {
      "cell_type": "code",
      "source": [
        "def sqaure(numbers):\n",
        "    sqaures = []\n",
        "    for num in numbers:\n",
        "        sqaures.append(num**2)\n",
        "    return sqaures\n",
        "print(sqaure([1,2,3,4,5]))\n",
        "\n"
      ],
      "metadata": {
        "colab": {
          "base_uri": "https://localhost:8080/"
        },
        "id": "kMrmMiI3CFpD",
        "outputId": "b98bf4d7-a840-46e6-8e69-1dbf125527ae"
      },
      "execution_count": null,
      "outputs": [
        {
          "output_type": "stream",
          "name": "stdout",
          "text": [
            "[1, 4, 9, 16, 25]\n"
          ]
        }
      ]
    },
    {
      "cell_type": "code",
      "source": [],
      "metadata": {
        "id": "T7HrKftfClH4"
      },
      "execution_count": null,
      "outputs": []
    },
    {
      "cell_type": "markdown",
      "source": [
        "q4. Write a Python function that checks if a given number is prime or not from 1 to 200.\n",
        "\n",
        "ans:"
      ],
      "metadata": {
        "id": "YQoLv1DHDLuX"
      }
    },
    {
      "cell_type": "code",
      "source": [
        "\n",
        "def prime(n):\n",
        "    if n < 2:\n",
        "        return \"not prime\"\n",
        "    elif n == 2:\n",
        "        return \"prime\"\n",
        "    else:\n",
        "        for i in range(2, n):\n",
        "            if n % i == 0:\n",
        "                return \"not prime\"\n",
        "        return \"prime\"\n",
        "\n",
        "for i in range(1, 201):\n",
        "    print(f\"{i} is {prime(i)}\")\n",
        "\n",
        "print(prime(29))\n",
        "\n",
        "\n",
        "\n",
        "\n",
        "\n",
        "\n"
      ],
      "metadata": {
        "colab": {
          "base_uri": "https://localhost:8080/"
        },
        "id": "M_6wPnZZDPrZ",
        "outputId": "6af8b1c4-10d4-4690-944f-2462fede0df0"
      },
      "execution_count": null,
      "outputs": [
        {
          "output_type": "stream",
          "name": "stdout",
          "text": [
            "1 is not prime\n",
            "2 is prime\n",
            "3 is prime\n",
            "4 is not prime\n",
            "5 is prime\n",
            "6 is not prime\n",
            "7 is prime\n",
            "8 is not prime\n",
            "9 is not prime\n",
            "10 is not prime\n",
            "11 is prime\n",
            "12 is not prime\n",
            "13 is prime\n",
            "14 is not prime\n",
            "15 is not prime\n",
            "16 is not prime\n",
            "17 is prime\n",
            "18 is not prime\n",
            "19 is prime\n",
            "20 is not prime\n",
            "21 is not prime\n",
            "22 is not prime\n",
            "23 is prime\n",
            "24 is not prime\n",
            "25 is not prime\n",
            "26 is not prime\n",
            "27 is not prime\n",
            "28 is not prime\n",
            "29 is prime\n",
            "30 is not prime\n",
            "31 is prime\n",
            "32 is not prime\n",
            "33 is not prime\n",
            "34 is not prime\n",
            "35 is not prime\n",
            "36 is not prime\n",
            "37 is prime\n",
            "38 is not prime\n",
            "39 is not prime\n",
            "40 is not prime\n",
            "41 is prime\n",
            "42 is not prime\n",
            "43 is prime\n",
            "44 is not prime\n",
            "45 is not prime\n",
            "46 is not prime\n",
            "47 is prime\n",
            "48 is not prime\n",
            "49 is not prime\n",
            "50 is not prime\n",
            "51 is not prime\n",
            "52 is not prime\n",
            "53 is prime\n",
            "54 is not prime\n",
            "55 is not prime\n",
            "56 is not prime\n",
            "57 is not prime\n",
            "58 is not prime\n",
            "59 is prime\n",
            "60 is not prime\n",
            "61 is prime\n",
            "62 is not prime\n",
            "63 is not prime\n",
            "64 is not prime\n",
            "65 is not prime\n",
            "66 is not prime\n",
            "67 is prime\n",
            "68 is not prime\n",
            "69 is not prime\n",
            "70 is not prime\n",
            "71 is prime\n",
            "72 is not prime\n",
            "73 is prime\n",
            "74 is not prime\n",
            "75 is not prime\n",
            "76 is not prime\n",
            "77 is not prime\n",
            "78 is not prime\n",
            "79 is prime\n",
            "80 is not prime\n",
            "81 is not prime\n",
            "82 is not prime\n",
            "83 is prime\n",
            "84 is not prime\n",
            "85 is not prime\n",
            "86 is not prime\n",
            "87 is not prime\n",
            "88 is not prime\n",
            "89 is prime\n",
            "90 is not prime\n",
            "91 is not prime\n",
            "92 is not prime\n",
            "93 is not prime\n",
            "94 is not prime\n",
            "95 is not prime\n",
            "96 is not prime\n",
            "97 is prime\n",
            "98 is not prime\n",
            "99 is not prime\n",
            "100 is not prime\n",
            "101 is prime\n",
            "102 is not prime\n",
            "103 is prime\n",
            "104 is not prime\n",
            "105 is not prime\n",
            "106 is not prime\n",
            "107 is prime\n",
            "108 is not prime\n",
            "109 is prime\n",
            "110 is not prime\n",
            "111 is not prime\n",
            "112 is not prime\n",
            "113 is prime\n",
            "114 is not prime\n",
            "115 is not prime\n",
            "116 is not prime\n",
            "117 is not prime\n",
            "118 is not prime\n",
            "119 is not prime\n",
            "120 is not prime\n",
            "121 is not prime\n",
            "122 is not prime\n",
            "123 is not prime\n",
            "124 is not prime\n",
            "125 is not prime\n",
            "126 is not prime\n",
            "127 is prime\n",
            "128 is not prime\n",
            "129 is not prime\n",
            "130 is not prime\n",
            "131 is prime\n",
            "132 is not prime\n",
            "133 is not prime\n",
            "134 is not prime\n",
            "135 is not prime\n",
            "136 is not prime\n",
            "137 is prime\n",
            "138 is not prime\n",
            "139 is prime\n",
            "140 is not prime\n",
            "141 is not prime\n",
            "142 is not prime\n",
            "143 is not prime\n",
            "144 is not prime\n",
            "145 is not prime\n",
            "146 is not prime\n",
            "147 is not prime\n",
            "148 is not prime\n",
            "149 is prime\n",
            "150 is not prime\n",
            "151 is prime\n",
            "152 is not prime\n",
            "153 is not prime\n",
            "154 is not prime\n",
            "155 is not prime\n",
            "156 is not prime\n",
            "157 is prime\n",
            "158 is not prime\n",
            "159 is not prime\n",
            "160 is not prime\n",
            "161 is not prime\n",
            "162 is not prime\n",
            "163 is prime\n",
            "164 is not prime\n",
            "165 is not prime\n",
            "166 is not prime\n",
            "167 is prime\n",
            "168 is not prime\n",
            "169 is not prime\n",
            "170 is not prime\n",
            "171 is not prime\n",
            "172 is not prime\n",
            "173 is prime\n",
            "174 is not prime\n",
            "175 is not prime\n",
            "176 is not prime\n",
            "177 is not prime\n",
            "178 is not prime\n",
            "179 is prime\n",
            "180 is not prime\n",
            "181 is prime\n",
            "182 is not prime\n",
            "183 is not prime\n",
            "184 is not prime\n",
            "185 is not prime\n",
            "186 is not prime\n",
            "187 is not prime\n",
            "188 is not prime\n",
            "189 is not prime\n",
            "190 is not prime\n",
            "191 is prime\n",
            "192 is not prime\n",
            "193 is prime\n",
            "194 is not prime\n",
            "195 is not prime\n",
            "196 is not prime\n",
            "197 is prime\n",
            "198 is not prime\n",
            "199 is prime\n",
            "200 is not prime\n",
            "prime\n"
          ]
        }
      ]
    },
    {
      "cell_type": "code",
      "source": [],
      "metadata": {
        "id": "q-Xe0rdXGT5R"
      },
      "execution_count": null,
      "outputs": []
    },
    {
      "cell_type": "markdown",
      "source": [
        "q6.. Write a generator function in Python that yields the powers of 2 up to a given exponent  \n",
        "\n",
        "ans:"
      ],
      "metadata": {
        "id": "ZjCypkYzHqta"
      }
    },
    {
      "cell_type": "code",
      "source": [
        "def power(n):\n",
        "  for i in range(n):\n",
        "    yield 2**i\n",
        "gen = power(6)\n",
        "print(next(gen))\n",
        "print(next(gen))\n",
        "print(next(gen))\n",
        "print(next(gen))\n",
        "print(next(gen))\n",
        "print(next(gen))\n"
      ],
      "metadata": {
        "id": "aoUz7VjvHutp",
        "colab": {
          "base_uri": "https://localhost:8080/"
        },
        "outputId": "9f7c3ae1-c69a-46d3-808b-894a5b668079"
      },
      "execution_count": null,
      "outputs": [
        {
          "output_type": "stream",
          "name": "stdout",
          "text": [
            "1\n",
            "2\n",
            "4\n",
            "8\n",
            "16\n",
            "32\n"
          ]
        }
      ]
    },
    {
      "cell_type": "code",
      "source": [],
      "metadata": {
        "id": "KuTOwhm3ThS3"
      },
      "execution_count": null,
      "outputs": []
    },
    {
      "cell_type": "markdown",
      "source": [
        "q7. Implement a generator function that reads a file line by line and yields each line as a string\n",
        "\n",
        "ans:"
      ],
      "metadata": {
        "id": "TOXEVQ7yVHSw"
      }
    },
    {
      "cell_type": "code",
      "source": [
        "def read_file(file_name):\n",
        "    with open(file_name, 'r') as file:\n",
        "        for line in file:\n",
        "            yield line\n",
        "gen = read_file('file.txt')"
      ],
      "metadata": {
        "id": "tnXSO9v5VMH6"
      },
      "execution_count": null,
      "outputs": []
    },
    {
      "cell_type": "markdown",
      "source": [
        "q8.. Use a lambda function in Python to sort a list of tuples based on the second element of each tuple.\n",
        "\n",
        "ans:"
      ],
      "metadata": {
        "id": "TC70YNO1WWgy"
      }
    },
    {
      "cell_type": "code",
      "source": [
        "t =[(1,2),(4,1),(5,6)]\n",
        "sorted_t = sorted(t, key=lambda x: x[1])\n",
        "print(sorted_t)\n"
      ],
      "metadata": {
        "colab": {
          "base_uri": "https://localhost:8080/"
        },
        "id": "jckkSc9YWcfC",
        "outputId": "2191eec9-4a6a-4bec-b188-cf5f959f2d4d"
      },
      "execution_count": null,
      "outputs": [
        {
          "output_type": "stream",
          "name": "stdout",
          "text": [
            "[(4, 1), (1, 2), (5, 6)]\n"
          ]
        }
      ]
    },
    {
      "cell_type": "code",
      "source": [],
      "metadata": {
        "id": "qRClxecEWFA-"
      },
      "execution_count": null,
      "outputs": []
    },
    {
      "cell_type": "markdown",
      "source": [
        "q9. Write a Python program that uses `map()` to convert a list of temperatures from Celsius to Fahrenheit.\n",
        "\n",
        "ans:"
      ],
      "metadata": {
        "id": "9NBrm0XyX-w4"
      }
    },
    {
      "cell_type": "code",
      "source": [
        "cel_temp = [10,50,60,90,80]\n",
        "fahre_temp = list(map(lambda c: (c*9/5)+32,cel_temp))\n",
        "print(cel_temp)\n",
        "print(fahre_temp)"
      ],
      "metadata": {
        "colab": {
          "base_uri": "https://localhost:8080/"
        },
        "id": "rHKIdtQ6YEZ6",
        "outputId": "64c4a776-b79b-42bb-df25-ed0845a696ee"
      },
      "execution_count": null,
      "outputs": [
        {
          "output_type": "stream",
          "name": "stdout",
          "text": [
            "[10, 50, 60, 90, 80]\n",
            "[50.0, 122.0, 140.0, 194.0, 176.0]\n"
          ]
        }
      ]
    },
    {
      "cell_type": "code",
      "source": [],
      "metadata": {
        "id": "DzlPkx9MY5kz"
      },
      "execution_count": null,
      "outputs": []
    },
    {
      "cell_type": "markdown",
      "source": [
        "q10. Create a Python program that uses `filter()` to remove all the vowels from a given string.\n",
        "\n",
        "ans:"
      ],
      "metadata": {
        "id": "b9BU_XX6ZCA9"
      }
    },
    {
      "cell_type": "code",
      "source": [
        "def remove_vowel(n):\n",
        "  vowels = 'aeiouAEIOU'\n",
        "  result = ''\n",
        "  for i in n:\n",
        "    if i not in vowels:\n",
        "      result+=i\n",
        "  return result\n",
        "string1=\"abdskdcdcsncds\"\n",
        "filter_string = filter(remove_vowel,string1)\n",
        "print(list(filter_string))"
      ],
      "metadata": {
        "colab": {
          "base_uri": "https://localhost:8080/"
        },
        "id": "diNuaAXxZLvN",
        "outputId": "4c29d32c-83f3-4add-8e9a-160ed979b335"
      },
      "execution_count": null,
      "outputs": [
        {
          "output_type": "stream",
          "name": "stdout",
          "text": [
            "['b', 'd', 's', 'k', 'd', 'c', 'd', 'c', 's', 'n', 'c', 'd', 's']\n"
          ]
        }
      ]
    },
    {
      "cell_type": "code",
      "source": [],
      "metadata": {
        "id": "-KBV7VmLb2rw"
      },
      "execution_count": null,
      "outputs": []
    },
    {
      "cell_type": "markdown",
      "source": [
        "q11."
      ],
      "metadata": {
        "id": "6kcqYiFTcb8c"
      }
    }
  ]
}
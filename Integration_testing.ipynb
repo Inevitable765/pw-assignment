{
  "nbformat": 4,
  "nbformat_minor": 0,
  "metadata": {
    "colab": {
      "provenance": []
    },
    "kernelspec": {
      "name": "python3",
      "display_name": "Python 3"
    },
    "language_info": {
      "name": "python"
    }
  },
  "cells": [
    {
      "cell_type": "markdown",
      "source": [
        "1. Set up an environment for integration testing and write test cases that\n",
        "validate the interaction between different components of a system?"
      ],
      "metadata": {
        "id": "OoI1Qc3ex8uY"
      }
    },
    {
      "cell_type": "markdown",
      "source": [
        "Ans: Setting up Integration Tests means validating how different parts of your application (like APIs, database, middleware, etc.) work together. Here’s a complete example using Node.js, Express, MongoDB, and Jest with Supertest to show how to set up and write integration test cases."
      ],
      "metadata": {
        "id": "TUgBzOsXy3X3"
      }
    },
    {
      "cell_type": "markdown",
      "source": [
        "* Environment Setup\n",
        "\n",
        "    Install packages:\n",
        "\n",
        "    npm install --save-dev jest supertest mongodb-memory-server"
      ],
      "metadata": {
        "id": "9RcmMDO_zQXe"
      }
    },
    {
      "cell_type": "markdown",
      "source": [
        "\n",
        "**2 . app code**"
      ],
      "metadata": {
        "id": "ZibwmUk4zXrK"
      }
    },
    {
      "cell_type": "code",
      "source": [
        "#models/Todo.js\n",
        "\n",
        "const mongoose = require('mongoose');\n",
        "\n",
        "const TodoSchema = new mongoose.Schema({\n",
        "  title: String,\n",
        "  completed: Boolean\n",
        "});\n",
        "\n",
        "module.exports = mongoose.model('Todo', TodoSchema);"
      ],
      "metadata": {
        "id": "q6Gh2UEAzfce"
      },
      "execution_count": null,
      "outputs": []
    },
    {
      "cell_type": "code",
      "source": [
        "# routes/todo.js\n",
        "\n",
        "const express = require('express');\n",
        "const Todo = require('../models/Todo');\n",
        "const router = express.Router();\n",
        "\n",
        "router.get('/api/get-todo', async (req, res) => {\n",
        "  const todos = await Todo.find();\n",
        "  res.json(todos);\n",
        "});\n",
        "\n",
        "router.post('/api/add-todo', async (req, res) => {\n",
        "  const newTodo = await Todo.create(req.body);\n",
        "  res.status(200).json(newTodo);\n",
        "});\n",
        "\n",
        "module.exports = router;"
      ],
      "metadata": {
        "id": "KSmvY8AwznCo"
      },
      "execution_count": null,
      "outputs": []
    },
    {
      "cell_type": "code",
      "source": [
        "# app.js\n",
        "\n",
        "const express = require('express');\n",
        "const mongoose = require('mongoose');\n",
        "const todoRoutes = require('./routes/todo');\n",
        "\n",
        "const app = express();\n",
        "app.use(express.json());\n",
        "app.use(todoRoutes);\n",
        "\n",
        "module.exports = app;"
      ],
      "metadata": {
        "id": "VBJEPJ-2zq8t"
      },
      "execution_count": null,
      "outputs": []
    },
    {
      "cell_type": "markdown",
      "source": [
        "**3. integration test**"
      ],
      "metadata": {
        "id": "YT1AbCKZzsUj"
      }
    },
    {
      "cell_type": "code",
      "source": [
        "# __tests__/todoApi.test.js\n",
        "\n",
        "const request = require('supertest');\n",
        "const mongoose = require('mongoose');\n",
        "const { MongoMemoryServer } = require('mongodb-memory-server');\n",
        "const app = require('../app');\n",
        "const Todo = require('../models/Todo');\n",
        "\n",
        "let mongoServer;\n",
        "\n",
        "beforeAll(async () => {\n",
        "  mongoServer = await MongoMemoryServer.create();\n",
        "  const uri = mongoServer.getUri();\n",
        "  await mongoose.connect(uri);\n",
        "});\n",
        "\n",
        "afterAll(async () => {\n",
        "  await mongoose.disconnect();\n",
        "  await mongoServer.stop();\n",
        "});\n",
        "\n",
        "afterEach(async () => {\n",
        "  await Todo.deleteMany(); // Clean DB after each test\n",
        "});\n",
        "\n",
        "describe(\"Integration Tests for Todo API\", () => {\n",
        "\n",
        "  it(\"POST /api/add-todo should create a todo\", async () => {\n",
        "    const response = await request(app)\n",
        "      .post('/api/add-todo')\n",
        "      .send({ title: 'Test Todo', completed: false });\n",
        "\n",
        "    expect(response.statusCode).toBe(201);\n",
        "    expect(response.body.title).toBe('Test Todo');\n",
        "  });\n",
        "\n",
        "  it(\"GET /api/get-todo should return all todos\", async () => {\n",
        "    await Todo.create([\n",
        "      { title: 'Todo 1', completed: false },\n",
        "      { title: 'Todo 2', completed: true }\n",
        "    ]);\n",
        "\n",
        "    const response = await request(app).get('/api/get-todo');\n",
        "    expect(response.statusCode).toBe(200);\n",
        "    expect(response.body.length).toBe(2);\n",
        "  });\n",
        "\n",
        "});\n"
      ],
      "metadata": {
        "id": "-hQMNBXmz1q2"
      },
      "execution_count": null,
      "outputs": []
    },
    {
      "cell_type": "code",
      "execution_count": null,
      "metadata": {
        "id": "g4GBiBY9xybz"
      },
      "outputs": [],
      "source": []
    }
  ]
}
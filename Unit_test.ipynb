{
  "nbformat": 4,
  "nbformat_minor": 0,
  "metadata": {
    "colab": {
      "provenance": []
    },
    "kernelspec": {
      "name": "python3",
      "display_name": "Python 3"
    },
    "language_info": {
      "name": "python"
    }
  },
  "cells": [
    {
      "cell_type": "markdown",
      "source": [
        "Q1. Implement unit tests, integration tests, and end-to-end tests for a sample application using frameworks like JUnit, TestNG, or Selenium?"
      ],
      "metadata": {
        "id": "-5yqk2Sl3udU"
      }
    },
    {
      "cell_type": "markdown",
      "source": [
        "**1. Application : user login **"
      ],
      "metadata": {
        "id": "InbVwAza3w1k"
      }
    },
    {
      "cell_type": "code",
      "source": [
        "# Assume created Class: UserService\n",
        "\n",
        "public class UserService {\n",
        "    private UserRepository userRepository;\n",
        "\n",
        "    public UserService(UserRepository repo) {\n",
        "        this.userRepository = repo;\n",
        "    }\n",
        "\n",
        "    public boolean login(String username, String password) {\n",
        "        User user = userRepository.findByUsername(username);\n",
        "        return user != null && user.getPassword().equals(password);\n",
        "    }\n",
        "}\n",
        "\n",
        ""
      ],
      "metadata": {
        "id": "y23IdK0R4FvQ"
      },
      "execution_count": null,
      "outputs": []
    },
    {
      "cell_type": "markdown",
      "source": [
        "**2. unit test using JUnit**"
      ],
      "metadata": {
        "id": "sueKkxiw4RqD"
      }
    },
    {
      "cell_type": "code",
      "source": [
        "# Test UserService.login() in isolation by mocking UserRepository.\n",
        "\n",
        "import static org.mockito.Mockito.*;\n",
        "import static org.junit.jupiter.api.Assertions.*;\n",
        "import org.junit.jupiter.api.Test;\n",
        "\n",
        "public class UserServiceTest {\n",
        "\n",
        "    @Test\n",
        "    public void testLogin_Successful() {\n",
        "        UserRepository mockRepo = mock(UserRepository.class);\n",
        "        when(mockRepo.findByUsername(\"kushal\")).thenReturn(new User(\"kushalal\", \"1234\"));\n",
        "\n",
        "        UserService userService = new UserService(mockRepo);\n",
        "\n",
        "        boolean result = userService.login(\"kushal\", \"1234\");\n",
        "        assertTrue(result);\n",
        "    }\n",
        "\n",
        "    @Test\n",
        "    public void testLogin_Failure_WrongPassword() {\n",
        "        UserRepository mockRepo = mock(UserRepository.class);\n",
        "        when(mockRepo.findByUsername(\"kushal\")).thenReturn(new User(\"kushal\", \"1234\"));\n",
        "\n",
        "        UserService userService = new UserService(mockRepo);\n",
        "\n",
        "        boolean result = userService.login(\"kushal\", \"wrongpass\");\n",
        "        assertFalse(result);\n",
        "    }\n",
        "}\n"
      ],
      "metadata": {
        "id": "LqbirZm_4ZhC"
      },
      "execution_count": null,
      "outputs": []
    },
    {
      "cell_type": "markdown",
      "source": [
        "**3. Integration test**"
      ],
      "metadata": {
        "id": "gznXIy7N4ena"
      }
    },
    {
      "cell_type": "code",
      "source": [
        "# Here, you test interaction between UserService and a real (in-memory) UserRepository.\n",
        "\n",
        "import org.junit.jupiter.api.BeforeEach;\n",
        "import org.junit.jupiter.api.Test;\n",
        "import static org.junit.jupiter.api.Assertions.*;\n",
        "\n",
        "public class UserServiceIntegrationTest {\n",
        "\n",
        "    private UserService userService;\n",
        "\n",
        "    @BeforeEach\n",
        "    public void setup() {\n",
        "        InMemoryUserRepository repo = new InMemoryUserRepository();\n",
        "        repo.save(new User(\"kushal\", \"1234\"));\n",
        "        userService = new UserService(repo);\n",
        "    }\n",
        "\n",
        "    @Test\n",
        "    public void testLogin_WithRealRepo() {\n",
        "        assertTrue(userService.login(\"kushal\", \"1234\"));\n",
        "        assertFalse(userService.login(\"kushal\", \"wrong\"));\n",
        "    }\n",
        "}"
      ],
      "metadata": {
        "id": "wzJ5QHOX4kB4"
      },
      "execution_count": null,
      "outputs": []
    },
    {
      "cell_type": "markdown",
      "source": [
        "**4. E2E testing with selenium**"
      ],
      "metadata": {
        "id": "tCFrqz__5BIk"
      }
    },
    {
      "cell_type": "code",
      "execution_count": null,
      "metadata": {
        "id": "sBhOMXx73qlY"
      },
      "outputs": [],
      "source": [
        "import org.openqa.selenium.By;\n",
        "import org.openqa.selenium.WebDriver;\n",
        "import org.openqa.selenium.WebElement;\n",
        "import org.openqa.selenium.chrome.ChromeDriver;\n",
        "import org.junit.jupiter.api.*;\n",
        "\n",
        "public class LoginE2ETest {\n",
        "\n",
        "    private WebDriver driver;\n",
        "\n",
        "    @BeforeEach\n",
        "    public void setup() {\n",
        "        System.setProperty(\"webdriver.chrome.driver\", \"path/to/chromedriver\");\n",
        "        driver = new ChromeDriver();\n",
        "        driver.get(\"http://localhost:8080/login\");\n",
        "    }\n",
        "\n",
        "    @Test\n",
        "    public void testLoginSuccess() {\n",
        "        WebElement userField = driver.findElement(By.id(\"username\"));\n",
        "        WebElement passField = driver.findElement(By.id(\"password\"));\n",
        "        WebElement form = driver.findElement(By.id(\"loginForm\"));\n",
        "\n",
        "        userField.sendKeys(\"kushal\");\n",
        "        passField.sendKeys(\"1234\");\n",
        "        form.submit();\n",
        "\n",
        "        Assertions.assertTrue(driver.getCurrentUrl().contains(\"dashboard\")); // or check login success message\n",
        "    }\n",
        "\n",
        "    @AfterEach\n",
        "    public void teardown() {\n",
        "        driver.quit();\n",
        "    }\n",
        "}\n"
      ]
    }
  ]
}
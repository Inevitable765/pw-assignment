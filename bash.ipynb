{
  "nbformat": 4,
  "nbformat_minor": 0,
  "metadata": {
    "colab": {
      "provenance": []
    },
    "kernelspec": {
      "name": "python3",
      "display_name": "Python 3"
    },
    "language_info": {
      "name": "python"
    }
  },
  "cells": [
    {
      "cell_type": "code",
      "execution_count": null,
      "metadata": {
        "id": "DbTjpVmOKXzA"
      },
      "outputs": [],
      "source": [
        "#BASH SCRIPT\n"
      ]
    },
    {
      "cell_type": "markdown",
      "source": [
        "Task 1: File Management Script\n",
        "\n",
        "Write a Bash script thatg\n",
        "- Creates a directory named \"backup\" in the user's home directory^\n",
        "- Copies all .txt files from the current directory into the \"backup\" directory^\n",
        "- Appends the current date and time to the filenames of the copied files.\n",
        "\n",
        "\n"
      ],
      "metadata": {
        "id": "rn_1hlYxKdNB"
      }
    },
    {
      "cell_type": "code",
      "source": [
        "#!/bin/bash\n",
        "mkdir -p ~/backup\n",
        "for file in *.txt; do\n",
        "  cp \"$file\" ~/backup/\"${file%.txt}_$(date +%Y-%m-%d_%H-%M-%S).txt\"\n",
        "done"
      ],
      "metadata": {
        "colab": {
          "base_uri": "https://localhost:8080/",
          "height": 106
        },
        "id": "wrSRvF_GKqaE",
        "outputId": "d0c8c6bb-750a-482a-a2b3-de54f3b9fab2"
      },
      "execution_count": null,
      "outputs": [
        {
          "output_type": "error",
          "ename": "SyntaxError",
          "evalue": "invalid syntax (ipython-input-1-2941813224.py, line 1)",
          "traceback": [
            "\u001b[0;36m  File \u001b[0;32m\"/tmp/ipython-input-1-2941813224.py\"\u001b[0;36m, line \u001b[0;32m1\u001b[0m\n\u001b[0;31m    -#!/bin/bash\u001b[0m\n\u001b[0m     ^\u001b[0m\n\u001b[0;31mSyntaxError\u001b[0m\u001b[0;31m:\u001b[0m invalid syntax\n"
          ]
        }
      ]
    },
    {
      "cell_type": "markdown",
      "source": [
        "Task 2: System Health Check\n",
        "\n",
        "Create a script thatg\n",
        "- Checks the system’s CPU and memory usage^\n",
        "- Reports if the CPU usage is above 80% or if the available memory is below 20%^\n",
        "- Logs the results to a file named system_health.log.\n",
        "\n"
      ],
      "metadata": {
        "id": "quQ53m1aK1nq"
      }
    },
    {
      "cell_type": "code",
      "source": [
        "#!/bin/bash\n",
        "cpu_usage=$(top -bn1 | grep \"Cpu\" | awk '{print 100 - $8}')\n",
        "mem_available=$(free | awk '/Mem/ {printf(\"%.0f\", $7/$2 * 100)}')\n",
        "\n",
        "echo \"CPU: $cpu_usage%, Memory Available: $mem_available%\" >> system_health.log\n",
        "\n",
        "if (( $(echo \"$cpu_usage > 80\" | bc -l) )) || (( mem_available < 20 )); then\n",
        "  echo \"WARNING: High CPU or Low Memory\" >> system_health.log\n",
        "fi"
      ],
      "metadata": {
        "id": "lylXzjb3K1Jc"
      },
      "execution_count": null,
      "outputs": []
    },
    {
      "cell_type": "markdown",
      "source": [
        "Task 3: User Account Management\n",
        "\n",
        "Write a script thatg\n",
        "- Reads a list of usernames from a file (e.g., user_list.txt)\n",
        "- Creates a new user for each username^\n",
        "- Generates a random password for each user and saves the username and password to a file named\n",
        "credentials.txt."
      ],
      "metadata": {
        "id": "s1KZp93NLvQ6"
      }
    },
    {
      "cell_type": "code",
      "source": [
        "#!/bin/bash\n",
        "while read -r user; do\n",
        "  password=$(openssl rand -base64 12)\n",
        "  sudo useradd \"$user\"\n",
        "  echo \"$user:$password\" | sudo chpasswd\n",
        "  echo \"$user $password\" >> credentials.txt\n",
        "done < user_list.txt"
      ],
      "metadata": {
        "id": "T5Js_vpqL1uI"
      },
      "execution_count": null,
      "outputs": []
    },
    {
      "cell_type": "markdown",
      "source": [
        "Task 4: Automated Backup\n",
        "\n",
        "Create a script thatg\n",
        "- Takes a directory path as input from the user\n",
        "- Compresses the directory into a .tar.gz file\n",
        "- Saves the compressed file with a name that includes the current date (e.g., backup_2023-08-20.tar.gz)"
      ],
      "metadata": {
        "id": "GSyobcaYMBil"
      }
    },
    {
      "cell_type": "code",
      "source": [
        "#!/bin/bash\n",
        "read -p \"Enter directory to backup: \" dir\n",
        "archive_name=\"backup_$(date +%Y-%m-%d).tar.gz\"\n",
        "tar -czf \"$archive_name\" \"$dir\""
      ],
      "metadata": {
        "id": "Vtkld1hFMLIK"
      },
      "execution_count": null,
      "outputs": []
    },
    {
      "cell_type": "markdown",
      "source": [
        "Task 5: Simple To-Do List\n",
        "\n",
        "Create a Bash script thatg\n",
        "- Implements a simple command-line to-do list\n",
        "- Allows the user to add tasks, view tasks, and remove tasks\n",
        "- Saves the tasks to a file (e.g., todo.txt)"
      ],
      "metadata": {
        "id": "9BKW-dGqMP_X"
      }
    },
    {
      "cell_type": "code",
      "source": [
        "#!/bin/bash\n",
        "file=todo.txt\n",
        "case $1 in\n",
        "  add) echo \"$2\" >> \"$file\" ;;\n",
        "  view) nl \"$file\" ;;\n",
        "  remove) sed -i \"${2}d\" \"$file\" ;;\n",
        "  *) echo \"Usage: $0 {add|view|remove} [task]\" ;;\n",
        "esac"
      ],
      "metadata": {
        "id": "oHpaFdL9Maaw"
      },
      "execution_count": null,
      "outputs": []
    },
    {
      "cell_type": "markdown",
      "source": [
        "Task 6: Automated Software Installation\n",
        "\n",
        "Write a script thatg\n",
        "- Reads a list of software package names from a file (e.g., packages.txt)\n",
        "- Installs each package using the appropriate package manager (apt, yum, etc.)\n",
        "- Logs the installation status of each package."
      ],
      "metadata": {
        "id": "rgovO1x9MhO4"
      }
    },
    {
      "cell_type": "code",
      "source": [
        "#!/bin/bash\n",
        "while read -r package; do\n",
        "  if sudo apt-get install -y \"$package\"; then\n",
        "    echo \"$package installed successfully\" >> install.log\n",
        "  else\n",
        "    echo \"$package failed to install\" >> install.log\n",
        "  fi\n",
        "done < packages.txt"
      ],
      "metadata": {
        "id": "TD7vxj8xMpDn"
      },
      "execution_count": null,
      "outputs": []
    }
  ]
}
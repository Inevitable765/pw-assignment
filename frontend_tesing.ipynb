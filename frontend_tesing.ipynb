{
  "nbformat": 4,
  "nbformat_minor": 0,
  "metadata": {
    "colab": {
      "provenance": []
    },
    "kernelspec": {
      "name": "python3",
      "display_name": "Python 3"
    },
    "language_info": {
      "name": "python"
    }
  },
  "cells": [
    {
      "cell_type": "markdown",
      "source": [
        "Q1. Use tools like JMeter or Gatling to perform load testing on a web application and analyze the results to identify performance bottlenecks?"
      ],
      "metadata": {
        "id": "uJizREbu3krs"
      }
    },
    {
      "cell_type": "markdown",
      "source": [
        "Ans: To evaluate the performance of a web application, I used Apache JMeter to conduct load testing. This helped simulate multiple users accessing the application simultaneously and allowed me to analyze how the server behaves under heavy load."
      ],
      "metadata": {
        "id": "4-A92ZNv3rvZ"
      }
    },
    {
      "cell_type": "markdown",
      "source": [
        "**Tool : Apache JMeter**"
      ],
      "metadata": {
        "id": "zkNK_8h34DxW"
      }
    },
    {
      "cell_type": "markdown",
      "source": [
        "* Web Application: Dummy REST API (https://reqres.in)\n",
        "\n",
        "* Endpoint Tested: https://reqres.in/api/users?page=2\n",
        "\n",
        "* Load Test Configuration:\n",
        "\n",
        "* Users (Threads): 100\n",
        "\n",
        "* Ramp-up Time: 10 seconds\n",
        "\n",
        "* Loop Count: 1"
      ],
      "metadata": {
        "id": "bIIvuHj54OlO"
      }
    },
    {
      "cell_type": "markdown",
      "source": [
        "**Steps**"
      ],
      "metadata": {
        "id": "f0Ijo7oO4kgt"
      }
    },
    {
      "cell_type": "markdown",
      "source": [
        "Open JMeter GUI\n",
        "Create a Test Plan\n",
        "Add Thread Group\n",
        "\n",
        "Users: 100\n",
        "\n",
        "Ramp-up: 10s\n",
        "\n",
        "Loop: 1\n",
        "\n",
        "Add HTTP Request Sampler\n",
        "\n",
        "Method: GET\n",
        "\n",
        "Server: reqres.in\n",
        "\n",
        "ath: /api/users?page=2\n",
        "\n",
        "Add Listener\n",
        "\n",
        "View Results in Table\n",
        "\n",
        "Summary Report\n",
        "\n",
        "Run the Test"
      ],
      "metadata": {
        "id": "ActS9pSj4n_W"
      }
    },
    {
      "cell_type": "code",
      "source": [
        "#  Gatling (Scala Code Example) – Script-Based Load Test\n",
        "\n",
        "import io.gatling.core.Predef._\n",
        "import io.gatling.http.Predef._\n",
        "import scala.concurrent.duration._\n",
        "\n",
        "class LoadTestSimulation extends Simulation {\n",
        "\n",
        "  val httpProtocol = http\n",
        "    .baseUrl(\"https://reqres.in\") // Base URL\n",
        "    .acceptHeader(\"application/json\")\n",
        "\n",
        "  val scn = scenario(\"Load Test Users API\")\n",
        "    .repeat(1) {\n",
        "      exec(http(\"GET Users\")\n",
        "        .get(\"/api/users?page=2\")\n",
        "        .check(status.is(200)))\n",
        "    }\n",
        "\n",
        "  setUp(\n",
        "    scn.inject(\n",
        "      rampUsers(50) during (10.seconds) // 50 users over 10 seconds\n",
        "    )\n",
        "  ).protocols(httpProtocol)\n",
        "}\n",
        ""
      ],
      "metadata": {
        "id": "R5r2uTCC4yiW"
      },
      "execution_count": null,
      "outputs": []
    },
    {
      "cell_type": "code",
      "execution_count": null,
      "metadata": {
        "id": "WgS6l7T23jbM"
      },
      "outputs": [],
      "source": [
        "# Locust (Python Code Example) – Very Developer-Friendly\n",
        "\n",
        "from locust import HttpUser, task, between\n",
        "\n",
        "class WebsiteUser(HttpUser):\n",
        "    wait_time = between(1, 3)\n",
        "\n",
        "    @task\n",
        "    def get_users(self):\n",
        "        self.client.get(\"/api/users?page=2\")\n",
        "\n"
      ]
    },
    {
      "cell_type": "markdown",
      "source": [
        "To Run the code:\n",
        "\n",
        "locust -f load_test.py --host=https://reqres.in\n",
        "\n",
        "Then open http://localhost:8089 in your browser to simulate users and see live charts."
      ],
      "metadata": {
        "id": "LVyvR4qK45GG"
      }
    }
  ]
}
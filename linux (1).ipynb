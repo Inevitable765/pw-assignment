{
  "nbformat": 4,
  "nbformat_minor": 0,
  "metadata": {
    "colab": {
      "provenance": []
    },
    "kernelspec": {
      "name": "python3",
      "display_name": "Python 3"
    },
    "language_info": {
      "name": "python"
    }
  },
  "cells": [
    {
      "cell_type": "code",
      "execution_count": null,
      "metadata": {
        "id": "Il-Zom5yJcjr"
      },
      "outputs": [],
      "source": []
    },
    {
      "cell_type": "markdown",
      "source": [
        "#Linux command\n",
        "\n",
        "\n",
        "1. What is Linux ?\n",
        "  - Linux is a open source operating system known for cutomization and security,Works on cli method.\n",
        "\n",
        "2. What is the difference between Hard\n",
        "   Link & Soft Link ?\n",
        "\n",
        "  - Hard link acts as a copy of the selected file.It accesses the data avialable in the original file.\n",
        "\n",
        "  - Soft link acts as pointer or reference to the file name.it does not access the data from the original file.\n",
        "\n",
        "3. What is a Kernel in Linux ?\n",
        " - Kernel is the core part of the linux acts as an interface between hardware and software.It manages the system resources like cpu,memory,process.\n",
        "\n",
        "4.  How do you create a user account ?\n",
        " - To create a user account in linux can be done with **useradd** command.\n",
        "\n",
        "5. What is the ‘grep’ command used for in Linux?\n",
        "- The grep command is used to search text or file for patterns.\n",
        "\n",
        "  ex:- grep \"hy\" file1.txt\n",
        "\n",
        "6. Step1: Create user p1\n",
        "\n",
        " Step2: He should be part of 3 groups g1,g2,g3.\n",
        "\n",
        " Step3: whenever he creates a file automatically in the group section of file grp g1 should come.\n",
        " - step 1:-\n",
        "  sudo useradd -m p1\n",
        "\n",
        " step 2:-\n",
        "\n",
        "  sudo groupadd g1\n",
        "  sudo groupadd g2\n",
        "  sudo groupadd g3\n",
        "  sudo usermod -ag g1,g2,g3 p1\n",
        "\n",
        "   step 3:-\n",
        "    sudo usermod -g g1 p1\n",
        "\n",
        "\n",
        "7.  Step1: Create directory /tmp/bg as root user and create files inside it.\n",
        "\n",
        " Step2: “abhi” should be the owner of the directory. He should be able to create files and delete files inside\n",
        "\n",
        " the directory and also he should be able to add content\n",
        "\n",
        " - step 1:-\n",
        " sudo mkdir /tmp/bg\n",
        "sudo touch /tmp/bg/file1 /tmp/bg/file2\n",
        "\n",
        "step 2:-\n",
        "sudo useradd -m abhi\n",
        "sudo chown -R abhi /tmp/bg\n",
        "sudo chmod -R u+rwX /tmp/bg\n",
        "\n",
        "8.  You suspect that a particular process is consuming excessive CPU resources on your Linux server. How\n",
        "would you identify and terminate this process?\n",
        "\n",
        "- To find the process running\n",
        "there is commnad\n",
        "\n",
        "ps aux --sort=%cpu | head\n",
        "\n",
        "this command will provide you top 10 running processes.\n",
        "\n",
        "we can terminate the process with **kill** command."
      ],
      "metadata": {
        "id": "ADEg6C1MJyt_"
      }
    },
    {
      "cell_type": "markdown",
      "source": [],
      "metadata": {
        "id": "UNY3BoYNJ_t1"
      }
    }
  ]
}
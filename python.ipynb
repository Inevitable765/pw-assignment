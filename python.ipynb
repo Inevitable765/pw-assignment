{
  "nbformat": 4,
  "nbformat_minor": 0,
  "metadata": {
    "colab": {
      "provenance": []
    },
    "kernelspec": {
      "name": "python3",
      "display_name": "Python 3"
    },
    "language_info": {
      "name": "python"
    }
  },
  "cells": [
    {
      "cell_type": "code",
      "execution_count": null,
      "metadata": {
        "id": "B5-NgWbldpay"
      },
      "outputs": [],
      "source": []
    },
    {
      "cell_type": "markdown",
      "source": [
        "Q1.  Explain the key features of Python that make it a popular choice for programming.\n",
        "\n",
        "ans: -> Python syntax is close to English, making it easy to read and write.\n",
        "-> Python code is executed line by line, which makes debugging easier.\n",
        "-> You don’t need to declare the data type of variables.\n",
        "-> Supports both object-oriented programming (OOP) and functional programming.\n",
        "-> Python code can run on any operating system"
      ],
      "metadata": {
        "id": "-Hw1pdxNdw6C"
      }
    },
    {
      "cell_type": "markdown",
      "source": [
        "Q2. Describe the role of predefined keywords in Python and provide examples of how they are used in a program.\n",
        "\n",
        "ans: predefined keywords are special reserved words that have specific meanings and are used to define the structure and rules of the language. These words cannot be used as variable names or identifiers because they are already used by Python to perform specific tasks. For example, keywords like if, else, and elif are used to write conditional statements, while for and while are used for loops. The keyword def is used to define a function, and class is used to define a class. Other keywords like True, False, None, import, return, and try also play important roles in different parts of a Python program. These keywords help Python understand what action the programmer wants to perform."
      ],
      "metadata": {
        "id": "Js6FeB9kfwvj"
      }
    },
    {
      "cell_type": "markdown",
      "source": [
        "Q3. Compare and contrast mutable and immutable objects in Python with examples.\n",
        "\n",
        "ans: Mutable objects:\n",
        " -> Mutable objects allow changes in their value without changing the object’s identity.\n",
        " -> When you modify a mutable object, Python keeps the same memory location\n",
        " -> Mutable objects are better when you need to update values frequently (like adding/removing items), as they don’t require memory allocation for new objects.\n",
        "\n",
        " Immutable objects:\n",
        " -> Immutable objects cannot be changed.\n",
        " -> Each modification creates a new object in memory.\n",
        " -> When you pass an immutable object to a function, it won’t be changed inside the function.\n",
        "\n"
      ],
      "metadata": {
        "id": "AaZxZu8vg_V3"
      }
    },
    {
      "cell_type": "markdown",
      "source": [
        "Q4.  Discuss the different types of operators in Python and provide examples of how they are used.\n",
        "\n",
        "ans: 1. Arthimatic operator:\n",
        "These operators are used to perform basic mathematical operations.\n",
        "-> addition = 10+5 = 15\n",
        "-> substraction = 10-5 = 5\n",
        "->multiplication = 10*5 = 50\n",
        "-> divison = 10/5 = 2\n",
        "-> modulus = 10%5 = 0\n",
        "\n",
        "2. Assignment operator:\n",
        "These are used to assign values to variables, and sometimes perform operations as part of the assignment.\n",
        "-> = equal to\n",
        "-> Operator\tExample\tEquivalent To\n",
        "=\tx = 5\tAssign 5 to x\n",
        "+=\t x += 3\t x = x + 3\n",
        "-=\t x -= 2\t x = x - 2\n",
        "*=\t x *= 4\t x = x * 4\n",
        "/=\t x /= 2\t x = x / 2\n",
        "//=\t x //= 3 x = x // 3\n",
        "%=\t x %= 3\t x = x % 3\n",
        "**=\t x **= 2\tx = x ** 2\n",
        "\n",
        "3. Comparison operator:\n",
        "Used to compare values. They always return a boolean: True or False.\n",
        "\n",
        "==\tEqual to\t5 == 5\tTrue\n",
        "!=\tNot equal to\t5 != 4\tTrue\n",
        ">\tGreater than\t10 > 3\tTrue\n",
        "<\tLess than\t2 < 8\tTrue\n",
        ">=\tGreater than or equal to\t7 >= 7\tTrue\n",
        "<=\tLess than or equal to\t5 <= 6\tTrue\n",
        "\n",
        "4. Logical Operators:\n",
        "Used to combine multiple conditions.\n",
        "and  =\tTrue if both are True\tTrue and False\tFalse\n",
        "or =\tTrue if at least one is True\tTrue or False\tTrue\n",
        "not =\tReverses True to False\tnot True\tFalse\n",
        "\n",
        "5. Membership Operators:\n",
        "Used to check if a value exists in a sequence like a list, tuple, or string.\n",
        "\n",
        "in =\tTrue if value is in the collection\t'a' in 'apple'\t = True\n",
        "not in =\tTrue if value is not in the collection\t4 not in [1, 2, 3]\t = True\n",
        "\n",
        "6. Identity Operators:\n",
        "Used to check if two variables refer to the same object in memory.\n",
        "is =\tTrue if same object\tx is y\tTrue/False\n",
        "is not\t = True if not same object\tx is not y\tTrue/False\n",
        "\n",
        "7. Bitwise Operators:\n",
        "\n",
        "&\tAND\t = 1 if both bits are 1\t5 & 3\t1\n",
        "|\tOR =\t1 if at least one bit is 1\t`5\n",
        "^\tXOR = \t1 if bits are different\t5 ^ 3\t6\n",
        "~\tNOT = \tInverts all bits\t~5\t-6\n",
        "<<\tLeft Shift =\tShifts bits to the left\t5 << 1\t10\n",
        ">>\tRight Shift\t = Shifts bits to the right\t5 >> 1\t2"
      ],
      "metadata": {
        "id": "vUE0ZOhRlsHc"
      }
    },
    {
      "cell_type": "markdown",
      "source": [
        "Q5. Explain the concept of type casting in Python with examples.\n",
        "\n",
        "ans: Type casting in Python means converting the value of one data type into another. For example, you might want to convert a string into an integer, or a float into a string. This is helpful when you're working with user input, doing calculations, or combining different types of data.\n",
        "\n",
        "(a) implicit Type Casting:\n",
        "Implicit type casting happens automatically when Python converts one data type to another during an operation. For example, if you add an integer and a float, Python will automatically convert the result to a float to avoid losing information\n",
        "\n",
        "(b) Explicit type casting:\n",
        "Explicit type casting is when the programmer manually converts one data type into another using built-in functions like int(), float(), str(), and bool(). This is useful when you’re handling user input or need to perform operations between different data types."
      ],
      "metadata": {
        "id": "Zo992ZbhqIte"
      }
    },
    {
      "cell_type": "markdown",
      "source": [
        "Q6. How do conditional statements work in Python? Illustrate with examples.\n",
        "\n",
        "ans:n Python, conditional statements are used to make decisions in a program. They allow the code to choose between different actions based on whether a condition is true or false. The main keywords used for conditional statements are if, elif (else if), and else.\n",
        "\n",
        "-> The if statement checks a condition. If it is True, the indented code block below it runs.\n",
        "\n",
        "-> The elif is used to check another condition if the first if was False.\n",
        "\n",
        "-> The else block runs if none of the conditions above are True.\n",
        "\n",
        "This structure helps the program decide what to do next, like choosing a path based on input or value.\n",
        "\n"
      ],
      "metadata": {
        "id": "od5Nc52Vq7F9"
      }
    },
    {
      "cell_type": "code",
      "source": [
        "a = 10\n",
        "if (a<20):\n",
        "  print(\"a is less than 20\")\n",
        "\n",
        "\n",
        "elif (a>10):\n",
        "  print(\"a is greater than 10\")\n",
        "\n",
        "\n",
        "else:\n",
        "  print(\"a is equal to 10\")"
      ],
      "metadata": {
        "id": "-9y-w5eiraVS"
      },
      "execution_count": null,
      "outputs": []
    },
    {
      "cell_type": "markdown",
      "source": [
        "Q7. Describe the different types of loops in Python and their use cases with examples.\n",
        "\n",
        "ans: n Python, loops are used to repeat a block of code multiple times. This is helpful when you want to perform the same task again and again, like printing numbers, going through a list, or repeating until a condition is met.\n",
        "\n",
        "(a) while loop:\n",
        "syntax ->\n",
        "  while condition:\n",
        "    #code\n",
        "     example:"
      ],
      "metadata": {
        "id": "a6xncDkZsQw2"
      }
    },
    {
      "cell_type": "code",
      "source": [
        "#while loop\n",
        "a = 5\n",
        "\n",
        "while a <= 10:\n",
        "  print(a)\n",
        "  a = a+1"
      ],
      "metadata": {
        "colab": {
          "base_uri": "https://localhost:8080/"
        },
        "id": "txxkcRwssvsf",
        "outputId": "946c2cee-5044-48f7-fa87-68f5649fb808"
      },
      "execution_count": null,
      "outputs": [
        {
          "output_type": "stream",
          "name": "stdout",
          "text": [
            "5\n",
            "6\n",
            "7\n",
            "8\n",
            "9\n",
            "10\n"
          ]
        }
      ]
    },
    {
      "cell_type": "markdown",
      "source": [
        "(b) for loop\n",
        "syntax -> for variable in sequence\n"
      ],
      "metadata": {
        "id": "TBQ8Y0oItgf2"
      }
    },
    {
      "cell_type": "code",
      "source": [
        "for i in \"pwskills\":\n",
        "  print(i)"
      ],
      "metadata": {
        "colab": {
          "base_uri": "https://localhost:8080/"
        },
        "id": "RX5ofUNetsjw",
        "outputId": "226ed115-5ef1-4a03-f2b1-75d55638d968"
      },
      "execution_count": null,
      "outputs": [
        {
          "output_type": "stream",
          "name": "stdout",
          "text": [
            "p\n",
            "w\n",
            "s\n",
            "k\n",
            "i\n",
            "l\n",
            "l\n",
            "s\n"
          ]
        }
      ]
    }
  ]
}